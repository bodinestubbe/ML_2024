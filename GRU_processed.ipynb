{
 "cells": [
  {
   "cell_type": "code",
   "execution_count": 46,
   "metadata": {},
   "outputs": [
    {
     "name": "stdout",
     "output_type": "stream",
     "text": [
      "Requirement already satisfied: Tensorflow in c:\\miniconda\\envs\\mlvu\\lib\\site-packages (2.15.0)\n",
      "Requirement already satisfied: tensorflow-intel==2.15.0 in c:\\miniconda\\envs\\mlvu\\lib\\site-packages (from Tensorflow) (2.15.0)\n",
      "Requirement already satisfied: absl-py>=1.0.0 in c:\\miniconda\\envs\\mlvu\\lib\\site-packages (from tensorflow-intel==2.15.0->Tensorflow) (2.1.0)\n",
      "Requirement already satisfied: astunparse>=1.6.0 in c:\\miniconda\\envs\\mlvu\\lib\\site-packages (from tensorflow-intel==2.15.0->Tensorflow) (1.6.3)\n",
      "Requirement already satisfied: flatbuffers>=23.5.26 in c:\\miniconda\\envs\\mlvu\\lib\\site-packages (from tensorflow-intel==2.15.0->Tensorflow) (23.5.26)\n",
      "Requirement already satisfied: gast!=0.5.0,!=0.5.1,!=0.5.2,>=0.2.1 in c:\\miniconda\\envs\\mlvu\\lib\\site-packages (from tensorflow-intel==2.15.0->Tensorflow) (0.5.4)\n",
      "Requirement already satisfied: google-pasta>=0.1.1 in c:\\miniconda\\envs\\mlvu\\lib\\site-packages (from tensorflow-intel==2.15.0->Tensorflow) (0.2.0)\n",
      "Requirement already satisfied: h5py>=2.9.0 in c:\\miniconda\\envs\\mlvu\\lib\\site-packages (from tensorflow-intel==2.15.0->Tensorflow) (3.10.0)\n",
      "Requirement already satisfied: libclang>=13.0.0 in c:\\miniconda\\envs\\mlvu\\lib\\site-packages (from tensorflow-intel==2.15.0->Tensorflow) (16.0.6)\n",
      "Requirement already satisfied: ml-dtypes~=0.2.0 in c:\\miniconda\\envs\\mlvu\\lib\\site-packages (from tensorflow-intel==2.15.0->Tensorflow) (0.2.0)\n",
      "Requirement already satisfied: numpy<2.0.0,>=1.23.5 in c:\\miniconda\\envs\\mlvu\\lib\\site-packages (from tensorflow-intel==2.15.0->Tensorflow) (1.26.4)\n",
      "Requirement already satisfied: opt-einsum>=2.3.2 in c:\\miniconda\\envs\\mlvu\\lib\\site-packages (from tensorflow-intel==2.15.0->Tensorflow) (3.3.0)\n",
      "Requirement already satisfied: packaging in c:\\miniconda\\envs\\mlvu\\lib\\site-packages (from tensorflow-intel==2.15.0->Tensorflow) (23.2)\n",
      "Requirement already satisfied: protobuf!=4.21.0,!=4.21.1,!=4.21.2,!=4.21.3,!=4.21.4,!=4.21.5,<5.0.0dev,>=3.20.3 in c:\\miniconda\\envs\\mlvu\\lib\\site-packages (from tensorflow-intel==2.15.0->Tensorflow) (4.25.3)\n",
      "Requirement already satisfied: setuptools in c:\\miniconda\\envs\\mlvu\\lib\\site-packages (from tensorflow-intel==2.15.0->Tensorflow) (69.1.1)\n",
      "Requirement already satisfied: six>=1.12.0 in c:\\miniconda\\envs\\mlvu\\lib\\site-packages (from tensorflow-intel==2.15.0->Tensorflow) (1.16.0)\n",
      "Requirement already satisfied: termcolor>=1.1.0 in c:\\miniconda\\envs\\mlvu\\lib\\site-packages (from tensorflow-intel==2.15.0->Tensorflow) (2.4.0)\n",
      "Requirement already satisfied: typing-extensions>=3.6.6 in c:\\miniconda\\envs\\mlvu\\lib\\site-packages (from tensorflow-intel==2.15.0->Tensorflow) (4.9.0)\n",
      "Requirement already satisfied: wrapt<1.15,>=1.11.0 in c:\\miniconda\\envs\\mlvu\\lib\\site-packages (from tensorflow-intel==2.15.0->Tensorflow) (1.14.1)\n",
      "Requirement already satisfied: tensorflow-io-gcs-filesystem>=0.23.1 in c:\\miniconda\\envs\\mlvu\\lib\\site-packages (from tensorflow-intel==2.15.0->Tensorflow) (0.31.0)\n",
      "Requirement already satisfied: grpcio<2.0,>=1.24.3 in c:\\miniconda\\envs\\mlvu\\lib\\site-packages (from tensorflow-intel==2.15.0->Tensorflow) (1.62.0)\n",
      "Requirement already satisfied: tensorboard<2.16,>=2.15 in c:\\miniconda\\envs\\mlvu\\lib\\site-packages (from tensorflow-intel==2.15.0->Tensorflow) (2.15.2)\n",
      "Requirement already satisfied: tensorflow-estimator<2.16,>=2.15.0 in c:\\miniconda\\envs\\mlvu\\lib\\site-packages (from tensorflow-intel==2.15.0->Tensorflow) (2.15.0)\n",
      "Requirement already satisfied: keras<2.16,>=2.15.0 in c:\\miniconda\\envs\\mlvu\\lib\\site-packages (from tensorflow-intel==2.15.0->Tensorflow) (2.15.0)\n",
      "Requirement already satisfied: wheel<1.0,>=0.23.0 in c:\\miniconda\\envs\\mlvu\\lib\\site-packages (from astunparse>=1.6.0->tensorflow-intel==2.15.0->Tensorflow) (0.41.2)\n",
      "Requirement already satisfied: google-auth<3,>=1.6.3 in c:\\miniconda\\envs\\mlvu\\lib\\site-packages (from tensorboard<2.16,>=2.15->tensorflow-intel==2.15.0->Tensorflow) (2.28.1)\n",
      "Requirement already satisfied: google-auth-oauthlib<2,>=0.5 in c:\\miniconda\\envs\\mlvu\\lib\\site-packages (from tensorboard<2.16,>=2.15->tensorflow-intel==2.15.0->Tensorflow) (1.2.0)\n",
      "Requirement already satisfied: markdown>=2.6.8 in c:\\miniconda\\envs\\mlvu\\lib\\site-packages (from tensorboard<2.16,>=2.15->tensorflow-intel==2.15.0->Tensorflow) (3.5.2)\n",
      "Requirement already satisfied: requests<3,>=2.21.0 in c:\\miniconda\\envs\\mlvu\\lib\\site-packages (from tensorboard<2.16,>=2.15->tensorflow-intel==2.15.0->Tensorflow) (2.31.0)\n",
      "Requirement already satisfied: tensorboard-data-server<0.8.0,>=0.7.0 in c:\\miniconda\\envs\\mlvu\\lib\\site-packages (from tensorboard<2.16,>=2.15->tensorflow-intel==2.15.0->Tensorflow) (0.7.2)\n",
      "Requirement already satisfied: werkzeug>=1.0.1 in c:\\miniconda\\envs\\mlvu\\lib\\site-packages (from tensorboard<2.16,>=2.15->tensorflow-intel==2.15.0->Tensorflow) (3.0.1)\n",
      "Requirement already satisfied: cachetools<6.0,>=2.0.0 in c:\\miniconda\\envs\\mlvu\\lib\\site-packages (from google-auth<3,>=1.6.3->tensorboard<2.16,>=2.15->tensorflow-intel==2.15.0->Tensorflow) (5.3.2)\n",
      "Requirement already satisfied: pyasn1-modules>=0.2.1 in c:\\miniconda\\envs\\mlvu\\lib\\site-packages (from google-auth<3,>=1.6.3->tensorboard<2.16,>=2.15->tensorflow-intel==2.15.0->Tensorflow) (0.3.0)\n",
      "Requirement already satisfied: rsa<5,>=3.1.4 in c:\\miniconda\\envs\\mlvu\\lib\\site-packages (from google-auth<3,>=1.6.3->tensorboard<2.16,>=2.15->tensorflow-intel==2.15.0->Tensorflow) (4.9)\n",
      "Requirement already satisfied: requests-oauthlib>=0.7.0 in c:\\miniconda\\envs\\mlvu\\lib\\site-packages (from google-auth-oauthlib<2,>=0.5->tensorboard<2.16,>=2.15->tensorflow-intel==2.15.0->Tensorflow) (1.3.1)\n",
      "Requirement already satisfied: charset-normalizer<4,>=2 in c:\\miniconda\\envs\\mlvu\\lib\\site-packages (from requests<3,>=2.21.0->tensorboard<2.16,>=2.15->tensorflow-intel==2.15.0->Tensorflow) (3.3.2)\n",
      "Requirement already satisfied: idna<4,>=2.5 in c:\\miniconda\\envs\\mlvu\\lib\\site-packages (from requests<3,>=2.21.0->tensorboard<2.16,>=2.15->tensorflow-intel==2.15.0->Tensorflow) (3.6)\n",
      "Requirement already satisfied: urllib3<3,>=1.21.1 in c:\\miniconda\\envs\\mlvu\\lib\\site-packages (from requests<3,>=2.21.0->tensorboard<2.16,>=2.15->tensorflow-intel==2.15.0->Tensorflow) (2.2.1)\n",
      "Requirement already satisfied: certifi>=2017.4.17 in c:\\miniconda\\envs\\mlvu\\lib\\site-packages (from requests<3,>=2.21.0->tensorboard<2.16,>=2.15->tensorflow-intel==2.15.0->Tensorflow) (2024.2.2)\n",
      "Requirement already satisfied: MarkupSafe>=2.1.1 in c:\\miniconda\\envs\\mlvu\\lib\\site-packages (from werkzeug>=1.0.1->tensorboard<2.16,>=2.15->tensorflow-intel==2.15.0->Tensorflow) (2.1.5)\n",
      "Requirement already satisfied: pyasn1<0.6.0,>=0.4.6 in c:\\miniconda\\envs\\mlvu\\lib\\site-packages (from pyasn1-modules>=0.2.1->google-auth<3,>=1.6.3->tensorboard<2.16,>=2.15->tensorflow-intel==2.15.0->Tensorflow) (0.5.1)\n",
      "Requirement already satisfied: oauthlib>=3.0.0 in c:\\miniconda\\envs\\mlvu\\lib\\site-packages (from requests-oauthlib>=0.7.0->google-auth-oauthlib<2,>=0.5->tensorboard<2.16,>=2.15->tensorflow-intel==2.15.0->Tensorflow) (3.2.2)\n",
      "Requirement already satisfied: Keras in c:\\miniconda\\envs\\mlvu\\lib\\site-packages (2.15.0)\n",
      "Requirement already satisfied: scikit-learn in c:\\miniconda\\envs\\mlvu\\lib\\site-packages (1.4.1.post1)\n",
      "Requirement already satisfied: numpy<2.0,>=1.19.5 in c:\\miniconda\\envs\\mlvu\\lib\\site-packages (from scikit-learn) (1.26.4)\n",
      "Requirement already satisfied: scipy>=1.6.0 in c:\\miniconda\\envs\\mlvu\\lib\\site-packages (from scikit-learn) (1.12.0)\n",
      "Requirement already satisfied: joblib>=1.2.0 in c:\\miniconda\\envs\\mlvu\\lib\\site-packages (from scikit-learn) (1.3.2)\n",
      "Requirement already satisfied: threadpoolctl>=2.0.0 in c:\\miniconda\\envs\\mlvu\\lib\\site-packages (from scikit-learn) (3.3.0)\n",
      "Requirement already satisfied: imblearn in c:\\miniconda\\envs\\mlvu\\lib\\site-packages (0.0)\n",
      "Requirement already satisfied: imbalanced-learn in c:\\miniconda\\envs\\mlvu\\lib\\site-packages (from imblearn) (0.12.0)\n",
      "Requirement already satisfied: numpy>=1.17.3 in c:\\miniconda\\envs\\mlvu\\lib\\site-packages (from imbalanced-learn->imblearn) (1.26.4)\n",
      "Requirement already satisfied: scipy>=1.5.0 in c:\\miniconda\\envs\\mlvu\\lib\\site-packages (from imbalanced-learn->imblearn) (1.12.0)\n",
      "Requirement already satisfied: scikit-learn>=1.0.2 in c:\\miniconda\\envs\\mlvu\\lib\\site-packages (from imbalanced-learn->imblearn) (1.4.1.post1)\n",
      "Requirement already satisfied: joblib>=1.1.1 in c:\\miniconda\\envs\\mlvu\\lib\\site-packages (from imbalanced-learn->imblearn) (1.3.2)\n",
      "Requirement already satisfied: threadpoolctl>=2.0.0 in c:\\miniconda\\envs\\mlvu\\lib\\site-packages (from imbalanced-learn->imblearn) (3.3.0)\n",
      "Requirement already satisfied: scikeras in c:\\miniconda\\envs\\mlvu\\lib\\site-packages (0.12.0)\n",
      "Requirement already satisfied: packaging>=0.21 in c:\\miniconda\\envs\\mlvu\\lib\\site-packages (from scikeras) (23.2)\n",
      "Requirement already satisfied: scikit-learn>=1.0.0 in c:\\miniconda\\envs\\mlvu\\lib\\site-packages (from scikeras) (1.4.1.post1)\n",
      "Requirement already satisfied: tensorflow-io-gcs-filesystem<0.32,>=0.23.1 in c:\\miniconda\\envs\\mlvu\\lib\\site-packages (from scikeras) (0.31.0)\n",
      "Requirement already satisfied: numpy<2.0,>=1.19.5 in c:\\miniconda\\envs\\mlvu\\lib\\site-packages (from scikit-learn>=1.0.0->scikeras) (1.26.4)\n",
      "Requirement already satisfied: scipy>=1.6.0 in c:\\miniconda\\envs\\mlvu\\lib\\site-packages (from scikit-learn>=1.0.0->scikeras) (1.12.0)\n",
      "Requirement already satisfied: joblib>=1.2.0 in c:\\miniconda\\envs\\mlvu\\lib\\site-packages (from scikit-learn>=1.0.0->scikeras) (1.3.2)\n",
      "Requirement already satisfied: threadpoolctl>=2.0.0 in c:\\miniconda\\envs\\mlvu\\lib\\site-packages (from scikit-learn>=1.0.0->scikeras) (3.3.0)\n",
      "Requirement already satisfied: gensim in c:\\miniconda\\envs\\mlvu\\lib\\site-packages (4.3.2)\n",
      "Requirement already satisfied: numpy>=1.18.5 in c:\\miniconda\\envs\\mlvu\\lib\\site-packages (from gensim) (1.26.4)\n",
      "Requirement already satisfied: scipy>=1.7.0 in c:\\miniconda\\envs\\mlvu\\lib\\site-packages (from gensim) (1.12.0)\n",
      "Requirement already satisfied: smart-open>=1.8.1 in c:\\miniconda\\envs\\mlvu\\lib\\site-packages (from gensim) (7.0.1)\n",
      "Requirement already satisfied: wrapt in c:\\miniconda\\envs\\mlvu\\lib\\site-packages (from smart-open>=1.8.1->gensim) (1.14.1)\n"
     ]
    }
   ],
   "source": [
    "!pip install Tensorflow\n",
    "!pip install Keras\n",
    "!pip install scikit-learn\n",
    "!pip install imblearn\n",
    "!pip install scikeras\n",
    "!pip install gensim\n"
   ]
  },
  {
   "cell_type": "code",
   "execution_count": 82,
   "metadata": {},
   "outputs": [],
   "source": [
    "import numpy as np\n",
    "import pandas as pd\n",
    "import seaborn as sns\n",
    "from seaborn import heatmap\n",
    "import matplotlib.pyplot as plt\n",
    "\n",
    "from sklearn.model_selection import train_test_split\n",
    "from sklearn.feature_extraction.text import TfidfVectorizer\n",
    "from sklearn.feature_extraction.text import CountVectorizer\n",
    "\n",
    "from sklearn.preprocessing import LabelEncoder, OneHotEncoder\n",
    "from imblearn.pipeline import Pipeline\n",
    "from collections import Counter\n",
    "\n",
    "import tensorflow\n",
    "from scikeras.wrappers import KerasClassifier, KerasRegressor\n",
    "from tensorflow import keras\n",
    "from tensorflow.keras import Model, Input\n",
    "from tensorflow.keras.utils import to_categorical\n",
    "from tensorflow.keras.preprocessing.text import Tokenizer\n",
    "from tensorflow.keras.preprocessing.sequence import pad_sequences\n",
    "from tensorflow.keras.layers import Dense, Embedding,GlobalMaxPooling1D, MaxPooling1D, TextVectorization\n",
    "from tensorflow.keras.models import Sequential\n",
    "from tensorflow.keras.layers import Convolution1D as Conv1D, InputLayer, concatenate\n",
    "from tensorflow.keras.layers import Embedding\n",
    "from tensorflow.keras.layers import GRU\n",
    "from tensorflow.keras.layers import Bidirectional\n",
    "from tensorflow.keras.layers import Flatten\n",
    "from tensorflow.keras.regularizers import l2\n",
    "from tensorflow.keras.layers import Dropout, BatchNormalization\n",
    "from tensorflow.keras.callbacks import EarlyStopping\n",
    "from sklearn.model_selection import GridSearchCV, RandomizedSearchCV\n",
    "from tensorflow.keras.utils import set_random_seed\n",
    "from tensorflow.data import Dataset\n",
    "\n",
    "\n",
    "from gensim.models import Word2Vec\n",
    "import os\n",
    "import zipfile"
   ]
  },
  {
   "cell_type": "code",
   "execution_count": 48,
   "metadata": {},
   "outputs": [],
   "source": [
    "set_random_seed(8)"
   ]
  },
  {
   "cell_type": "markdown",
   "metadata": {},
   "source": [
    "## Importing the data"
   ]
  },
  {
   "cell_type": "code",
   "execution_count": 49,
   "metadata": {},
   "outputs": [
    {
     "data": {
      "text/html": [
       "<div>\n",
       "<style scoped>\n",
       "    .dataframe tbody tr th:only-of-type {\n",
       "        vertical-align: middle;\n",
       "    }\n",
       "\n",
       "    .dataframe tbody tr th {\n",
       "        vertical-align: top;\n",
       "    }\n",
       "\n",
       "    .dataframe thead th {\n",
       "        text-align: right;\n",
       "    }\n",
       "</style>\n",
       "<table border=\"1\" class=\"dataframe\">\n",
       "  <thead>\n",
       "    <tr style=\"text-align: right;\">\n",
       "      <th></th>\n",
       "      <th>headline</th>\n",
       "      <th>is_sarcastic</th>\n",
       "    </tr>\n",
       "  </thead>\n",
       "  <tbody>\n",
       "    <tr>\n",
       "      <th>0</th>\n",
       "      <td>thirtysomething scientists unveil doomsday clo...</td>\n",
       "      <td>1</td>\n",
       "    </tr>\n",
       "    <tr>\n",
       "      <th>1</th>\n",
       "      <td>dem rep totally nails congress falling short g...</td>\n",
       "      <td>0</td>\n",
       "    </tr>\n",
       "    <tr>\n",
       "      <th>2</th>\n",
       "      <td>eat veggies  deliciously different recipes</td>\n",
       "      <td>0</td>\n",
       "    </tr>\n",
       "    <tr>\n",
       "      <th>3</th>\n",
       "      <td>inclement weather prevents liar getting work</td>\n",
       "      <td>1</td>\n",
       "    </tr>\n",
       "    <tr>\n",
       "      <th>4</th>\n",
       "      <td>mother comes pretty close using word streaming...</td>\n",
       "      <td>1</td>\n",
       "    </tr>\n",
       "    <tr>\n",
       "      <th>...</th>\n",
       "      <td>...</td>\n",
       "      <td>...</td>\n",
       "    </tr>\n",
       "    <tr>\n",
       "      <th>28614</th>\n",
       "      <td>jews celebrate rosh hashasha something</td>\n",
       "      <td>1</td>\n",
       "    </tr>\n",
       "    <tr>\n",
       "      <th>28615</th>\n",
       "      <td>internal affairs investigator disappointed con...</td>\n",
       "      <td>1</td>\n",
       "    </tr>\n",
       "    <tr>\n",
       "      <th>28616</th>\n",
       "      <td>beautiful acceptance speech week came queer ko...</td>\n",
       "      <td>0</td>\n",
       "    </tr>\n",
       "    <tr>\n",
       "      <th>28617</th>\n",
       "      <td>mars probe destroyed orbiting spielberggates s...</td>\n",
       "      <td>1</td>\n",
       "    </tr>\n",
       "    <tr>\n",
       "      <th>28618</th>\n",
       "      <td>dad clarifies food stop</td>\n",
       "      <td>1</td>\n",
       "    </tr>\n",
       "  </tbody>\n",
       "</table>\n",
       "<p>28617 rows × 2 columns</p>\n",
       "</div>"
      ],
      "text/plain": [
       "                                                headline  is_sarcastic\n",
       "0      thirtysomething scientists unveil doomsday clo...             1\n",
       "1      dem rep totally nails congress falling short g...             0\n",
       "2             eat veggies  deliciously different recipes             0\n",
       "3           inclement weather prevents liar getting work             1\n",
       "4      mother comes pretty close using word streaming...             1\n",
       "...                                                  ...           ...\n",
       "28614             jews celebrate rosh hashasha something             1\n",
       "28615  internal affairs investigator disappointed con...             1\n",
       "28616  beautiful acceptance speech week came queer ko...             0\n",
       "28617  mars probe destroyed orbiting spielberggates s...             1\n",
       "28618                            dad clarifies food stop             1\n",
       "\n",
       "[28617 rows x 2 columns]"
      ]
     },
     "execution_count": 49,
     "metadata": {},
     "output_type": "execute_result"
    }
   ],
   "source": [
    "df = pd.read_csv('data/processed_data.csv', index_col =0)\n",
    "df"
   ]
  },
  {
   "cell_type": "code",
   "execution_count": 50,
   "metadata": {},
   "outputs": [
    {
     "data": {
      "text/plain": [
       "headline        2\n",
       "is_sarcastic    0\n",
       "dtype: int64"
      ]
     },
     "execution_count": 50,
     "metadata": {},
     "output_type": "execute_result"
    }
   ],
   "source": [
    "df.isna().sum()"
   ]
  },
  {
   "cell_type": "code",
   "execution_count": 51,
   "metadata": {},
   "outputs": [],
   "source": [
    "df.dropna(inplace = True)"
   ]
  },
  {
   "cell_type": "code",
   "execution_count": 52,
   "metadata": {},
   "outputs": [
    {
     "data": {
      "text/plain": [
       "headline        0\n",
       "is_sarcastic    0\n",
       "dtype: int64"
      ]
     },
     "execution_count": 52,
     "metadata": {},
     "output_type": "execute_result"
    }
   ],
   "source": [
    "df.isna().sum()"
   ]
  },
  {
   "cell_type": "code",
   "execution_count": 53,
   "metadata": {},
   "outputs": [
    {
     "data": {
      "text/plain": [
       "(28615, 2)"
      ]
     },
     "execution_count": 53,
     "metadata": {},
     "output_type": "execute_result"
    }
   ],
   "source": [
    "df.shape"
   ]
  },
  {
   "cell_type": "markdown",
   "metadata": {},
   "source": [
    "## Splitting data"
   ]
  },
  {
   "cell_type": "code",
   "execution_count": 54,
   "metadata": {},
   "outputs": [],
   "source": [
    "X = df[\"headline\"]\n",
    "y = df[\"is_sarcastic\"]"
   ]
  },
  {
   "cell_type": "markdown",
   "metadata": {},
   "source": [
    "splitting data 70\\% train, 10\\% validation, 20\\% test"
   ]
  },
  {
   "cell_type": "code",
   "execution_count": 55,
   "metadata": {},
   "outputs": [],
   "source": [
    "#splitting the data into train, validation, test\n",
    "X, X_test, y, y_test = train_test_split(X,y, test_size = 0.2, random_state = 8)"
   ]
  },
  {
   "cell_type": "code",
   "execution_count": 56,
   "metadata": {},
   "outputs": [],
   "source": [
    "#splitting the (training) data into training and validating data\n",
    "X_train, X_val, y_train, y_val = train_test_split(X, y, test_size = 0.125)"
   ]
  },
  {
   "cell_type": "code",
   "execution_count": 57,
   "metadata": {},
   "outputs": [
    {
     "data": {
      "text/plain": [
       "20018                    reports movie good reach area man\n",
       "2706     trumps labor law enforcer freezes workerfriend...\n",
       "24071    rohingya muslims flee  houses burned myanmars ...\n",
       "12386                     havana attractions cant wait see\n",
       "5098     wildest friend called bench help woman get bre...\n",
       "Name: headline, dtype: object"
      ]
     },
     "execution_count": 57,
     "metadata": {},
     "output_type": "execute_result"
    }
   ],
   "source": [
    "X_train.sample(5)"
   ]
  },
  {
   "cell_type": "code",
   "execution_count": 58,
   "metadata": {},
   "outputs": [
    {
     "data": {
      "text/plain": [
       "15871    1\n",
       "1068     1\n",
       "26259    1\n",
       "885      0\n",
       "18231    0\n",
       "Name: is_sarcastic, dtype: int64"
      ]
     },
     "execution_count": 58,
     "metadata": {},
     "output_type": "execute_result"
    }
   ],
   "source": [
    "y_train.sample(5)"
   ]
  },
  {
   "cell_type": "markdown",
   "metadata": {},
   "source": [
    "## Model statistics"
   ]
  },
  {
   "cell_type": "code",
   "execution_count": 99,
   "metadata": {},
   "outputs": [],
   "source": [
    "def plotCurves(history, model_name):\n",
    "    results = pd.DataFrame(history.history)\n",
    "    \n",
    "    fig, (ax1,ax2) = plt.subplots(1, 2, figsize=(20, 10))\n",
    "    \n",
    "    ax1.plot(results.index, results.loss)\n",
    "    ax1.plot(results.index, results.val_loss)\n",
    "    ax1.set_title(model_name)\n",
    "    ax1.set_xlabel(\"Epochs\")\n",
    "    ax1.set_ylabel(\"Binary Crossentropy Loss\")\n",
    "    ax1.legend([\"Training Loss\", \"Validation Loss\"])\n",
    "   \n",
    "\n",
    "\n",
    " \n",
    "    ax2.plot(results.index, results.accuracy)\n",
    "    ax2.plot(results.index, results.val_accuracy)\n",
    "    ax2.set_title(model_name)\n",
    "    ax2.set_xlabel(\"Epochs\")\n",
    "    ax2.set_ylabel(\"Accuracy\")\n",
    "    ax2.legend([\"Training Accuracy\", \"Validation Accuracy\"])\n",
    " \n",
    "\n",
    "    fig.show()"
   ]
  },
  {
   "cell_type": "markdown",
   "metadata": {},
   "source": [
    "## Tokenizing"
   ]
  },
  {
   "cell_type": "code",
   "execution_count": 59,
   "metadata": {},
   "outputs": [],
   "source": [
    "tokenizer = Tokenizer()\n",
    "\n",
    "#fitting tokenizer on training set\n",
    "tokenizer.fit_on_texts(X_train)\n",
    "\n",
    "#finding the max length of a sentence in the training data to padd sequences later on\n",
    "max_length = max([len(sentence.split()) for sentence in X_train])\n",
    "\n",
    "#tokenizing headlines\n",
    "X_train = pad_sequences(tokenizer.texts_to_sequences(X_train), maxlen = max_length, padding = \"post\")\n",
    "X_val = pad_sequences(tokenizer.texts_to_sequences(X_val), maxlen = max_length, padding = \"post\")\n",
    "X_test = pad_sequences(tokenizer.texts_to_sequences(X_test), maxlen = max_length, padding = \"post\")"
   ]
  },
  {
   "cell_type": "code",
   "execution_count": 72,
   "metadata": {},
   "outputs": [
    {
     "data": {
      "text/plain": [
       "106"
      ]
     },
     "execution_count": 72,
     "metadata": {},
     "output_type": "execute_result"
    }
   ],
   "source": [
    "max_length"
   ]
  },
  {
   "cell_type": "code",
   "execution_count": 68,
   "metadata": {},
   "outputs": [
    {
     "name": "stdout",
     "output_type": "stream",
     "text": [
      "The size of vocabulary: 24121\n"
     ]
    }
   ],
   "source": [
    "vocab_size = len(tokenizer.word_index)+1\n",
    "print(f'The size of vocabulary: {vocab_size}')"
   ]
  },
  {
   "cell_type": "markdown",
   "metadata": {},
   "source": [
    "## Simple bidirectional GRU"
   ]
  },
  {
   "cell_type": "markdown",
   "metadata": {},
   "source": [
    "With own embedding"
   ]
  },
  {
   "cell_type": "code",
   "execution_count": 86,
   "metadata": {},
   "outputs": [
    {
     "name": "stdout",
     "output_type": "stream",
     "text": [
      "Model: \"sequential_5\"\n",
      "_________________________________________________________________\n",
      " Layer (type)                Output Shape              Param #   \n",
      "=================================================================\n",
      " embedding_2 (Embedding)     (None, 106, 100)          2412100   \n",
      "                                                                 \n",
      " bidirectional_1 (Bidirecti  (None, 256)               176640    \n",
      " onal)                                                           \n",
      "                                                                 \n",
      " dense_2 (Dense)             (None, 1)                 257       \n",
      "                                                                 \n",
      "=================================================================\n",
      "Total params: 2588997 (9.88 MB)\n",
      "Trainable params: 2588997 (9.88 MB)\n",
      "Non-trainable params: 0 (0.00 Byte)\n",
      "_________________________________________________________________\n"
     ]
    }
   ],
   "source": [
    "output_dimension = 100\n",
    "\n",
    "model = Sequential()\n",
    "model.add(Embedding(input_dim = vocab_size, output_dim = output_dimension, input_length = max_length))\n",
    "model.add(Bidirectional(GRU(128)))\n",
    "model.add(Dense(1, activation = \"sigmoid\"))\n",
    "model.summary()"
   ]
  },
  {
   "cell_type": "code",
   "execution_count": 87,
   "metadata": {},
   "outputs": [],
   "source": [
    "model.compile(loss = 'binary_crossentropy', optimizer = 'adam', metrics = ['accuracy'])\n"
   ]
  },
  {
   "cell_type": "code",
   "execution_count": 88,
   "metadata": {},
   "outputs": [
    {
     "name": "stdout",
     "output_type": "stream",
     "text": [
      "Epoch 1/5\n",
      "313/313 [==============================] - 81s 246ms/step - loss: 0.4910 - accuracy: 0.7502 - val_loss: 0.3836 - val_accuracy: 0.8194\n",
      "Epoch 2/5\n",
      "313/313 [==============================] - 75s 240ms/step - loss: 0.2084 - accuracy: 0.9183 - val_loss: 0.4176 - val_accuracy: 0.8173\n",
      "Epoch 3/5\n",
      "313/313 [==============================] - 59s 187ms/step - loss: 0.0825 - accuracy: 0.9700 - val_loss: 0.5692 - val_accuracy: 0.8043\n",
      "Epoch 4/5\n",
      "313/313 [==============================] - 71s 226ms/step - loss: 0.0352 - accuracy: 0.9884 - val_loss: 0.7902 - val_accuracy: 0.7914\n",
      "Epoch 5/5\n",
      "313/313 [==============================] - 74s 236ms/step - loss: 0.0169 - accuracy: 0.9949 - val_loss: 0.8280 - val_accuracy: 0.7970\n"
     ]
    }
   ],
   "source": [
    "history = model.fit(X_train, y_train, epochs = 5, batch_size = 64, validation_data=(X_val, y_val))"
   ]
  },
  {
   "cell_type": "code",
   "execution_count": 100,
   "metadata": {},
   "outputs": [
    {
     "name": "stderr",
     "output_type": "stream",
     "text": [
      "C:\\Users\\Bodine Stubbé\\AppData\\Local\\Temp\\ipykernel_9300\\2336864335.py:24: UserWarning: FigureCanvasAgg is non-interactive, and thus cannot be shown\n",
      "  fig.show()\n"
     ]
    },
    {
     "data": {
      "image/png": "[encoded data removed]",
      "text/plain": [
       "<Figure size 2000x1000 with 2 Axes>"
      ]
     },
     "metadata": {},
     "output_type": "display_data"
    }
   ],
   "source": [
    "plotCurves(history, \"Bidirectional GRU with own embedding\")"
   ]
  },
  {
   "cell_type": "markdown",
   "metadata": {},
   "source": []
  }
 ],
 "metadata": {
  "kernelspec": {
   "display_name": "mlvu",
   "language": "python",
   "name": "python3"
  },
  "language_info": {
   "codemirror_mode": {
    "name": "ipython",
    "version": 3
   },
   "file_extension": ".py",
   "mimetype": "text/x-python",
   "name": "python",
   "nbconvert_exporter": "python",
   "pygments_lexer": "ipython3",
   "version": "3.10.13"
  }
 },
 "nbformat": 4,
 "nbformat_minor": 2
}
